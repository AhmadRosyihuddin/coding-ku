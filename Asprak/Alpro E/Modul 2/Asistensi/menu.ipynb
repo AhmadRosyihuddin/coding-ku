{
 "cells": [
  {
   "cell_type": "code",
   "execution_count": null,
   "metadata": {},
   "outputs": [],
   "source": [
    "start = True\n",
    "while start:\n",
    "    print(\"MENU\\nTekan 1 untuk operasi Luas Lingkaran (input adalah jari-jari)\\nTekan 2 untuk operasi Luas Persegi Panjang (input adalah panjang dan lebar)\\nTekan 3 untuk operasi Luas Segitiga (input adalah alas dan tinggi)\")\n",
    "    inp = int(input(\"Masukkan Pilihan Anda\"))\n",
    "    if(inp==1):\n",
    "        r = int(input(\"Masukkan Jari-Jari => \"))\n",
    "        if(r%7==0):\n",
    "            print(\"Luas Lingkaran = \",22/7*(r**2))\n",
    "        else:\n",
    "            print(\"Luas Lingkaran = \",3.14*(r**2))\n",
    "    elif(inp==2):\n",
    "        p = int(input(\"Masukkan Panjang => \"))\n",
    "        l = int(input(\"Masukkan Luas => \"))\n",
    "        print(\"Luas Peregi Panjagi Panjang = \", p*l)\n",
    "    elif(inp==3):\n",
    "        a = int(input(\"Masukkan Alas => \"))\n",
    "        t = int(input(\"Masukkan Tinggi => \"))\n",
    "        print(\"Luas Segitiga = \", 1/2*(a*t))\n",
    "    else:\n",
    "        print(\"menu tidak di temukan\")\n",
    "    \n",
    "    print(\"=\"*60)\n",
    "    lanjut = input(\"Ingin Mengulang Operasi Kembali (y/t) ? \")\n",
    "    if(lanjut != \"y\"):\n",
    "        start = False\n"
   ]
  }
 ],
 "metadata": {
  "kernelspec": {
   "display_name": "Python 3.10.6 ('modul 2': venv)",
   "language": "python",
   "name": "python3"
  },
  "language_info": {
   "codemirror_mode": {
    "name": "ipython",
    "version": 3
   },
   "file_extension": ".py",
   "mimetype": "text/x-python",
   "name": "python",
   "nbconvert_exporter": "python",
   "pygments_lexer": "ipython3",
   "version": "3.10.6"
  },
  "orig_nbformat": 4,
  "vscode": {
   "interpreter": {
    "hash": "d80ad8c46b16c078ead72b0bc5b7669f8f7083a933049a6416db53421df4e466"
   }
  }
 },
 "nbformat": 4,
 "nbformat_minor": 2
}
