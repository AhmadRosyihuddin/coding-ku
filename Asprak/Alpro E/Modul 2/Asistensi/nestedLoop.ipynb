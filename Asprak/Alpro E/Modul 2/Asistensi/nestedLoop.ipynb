{
 "cells": [
  {
   "cell_type": "code",
   "execution_count": 4,
   "metadata": {},
   "outputs": [
    {
     "name": "stdout",
     "output_type": "stream",
     "text": [
      "1.\n",
      "   1.1\n",
      "   1.2\n",
      "   1.3\n",
      "2.\n",
      "   2.1\n",
      "   2.2\n",
      "   2.3\n",
      "3.\n",
      "   3.1\n",
      "   3.2\n",
      "   3.3\n",
      "4.\n",
      "   4.1\n",
      "   4.2\n",
      "   4.3\n"
     ]
    }
   ],
   "source": [
    "bab = int(input(\"Masukkan Jumlah Bab = \"))\n",
    "subBab = int(input(\"Masukkan Jumlah Sub Bab di setiap bab = \"))\n",
    "for i in range(1,bab+1):\n",
    "    print(\"{}.\".format(i))\n",
    "    for y in range(1, subBab+1):\n",
    "        print(\"   {}.{}\".format(i,y))"
   ]
  }
 ],
 "metadata": {
  "kernelspec": {
   "display_name": "Python 3.10.6 ('modul 2': venv)",
   "language": "python",
   "name": "python3"
  },
  "language_info": {
   "codemirror_mode": {
    "name": "ipython",
    "version": 3
   },
   "file_extension": ".py",
   "mimetype": "text/x-python",
   "name": "python",
   "nbconvert_exporter": "python",
   "pygments_lexer": "ipython3",
   "version": "3.10.6"
  },
  "orig_nbformat": 4,
  "vscode": {
   "interpreter": {
    "hash": "d80ad8c46b16c078ead72b0bc5b7669f8f7083a933049a6416db53421df4e466"
   }
  }
 },
 "nbformat": 4,
 "nbformat_minor": 2
}
