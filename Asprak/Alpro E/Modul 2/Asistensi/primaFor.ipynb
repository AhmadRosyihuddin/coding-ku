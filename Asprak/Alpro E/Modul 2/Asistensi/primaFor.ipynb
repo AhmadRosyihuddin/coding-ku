{
 "cells": [
  {
   "cell_type": "code",
   "execution_count": 9,
   "metadata": {},
   "outputs": [
    {
     "name": "stdout",
     "output_type": "stream",
     "text": [
      "1 Bukan Prima\n"
     ]
    }
   ],
   "source": [
    "a = int(input(\"Masukkan Angka => \"))\n",
    "if a > 1:\n",
    "    faktor = 0\n",
    "    for i in range(1,a+1):\n",
    "        if a%i==0:\n",
    "            faktor += 1\n",
    "    if faktor == 2:\n",
    "        print(a,\"Bilangan Prima\")\n",
    "    else:\n",
    "        print(a, \"Bukan Prima, memiliki jumlah faktor\", faktor)\n",
    "            \n",
    "else:\n",
    "    print(a,\"Bukan Prima\")"
   ]
  }
 ],
 "metadata": {
  "kernelspec": {
   "display_name": "Python 3.10.6 ('modul 2': venv)",
   "language": "python",
   "name": "python3"
  },
  "language_info": {
   "codemirror_mode": {
    "name": "ipython",
    "version": 3
   },
   "file_extension": ".py",
   "mimetype": "text/x-python",
   "name": "python",
   "nbconvert_exporter": "python",
   "pygments_lexer": "ipython3",
   "version": "3.10.6"
  },
  "orig_nbformat": 4,
  "vscode": {
   "interpreter": {
    "hash": "d80ad8c46b16c078ead72b0bc5b7669f8f7083a933049a6416db53421df4e466"
   }
  }
 },
 "nbformat": 4,
 "nbformat_minor": 2
}
