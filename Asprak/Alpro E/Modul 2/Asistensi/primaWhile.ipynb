{
 "cells": [
  {
   "cell_type": "code",
   "execution_count": 35,
   "metadata": {},
   "outputs": [
    {
     "name": "stdout",
     "output_type": "stream",
     "text": [
      "121 Bukan Prima, memiliki jumlah faktor pembagi 3\n"
     ]
    }
   ],
   "source": [
    "x = int(input(\"Masukkan Angka => \"))\n",
    "if x > 1:\n",
    "    i = 1\n",
    "    faktor = 0\n",
    "    while i <= x:\n",
    "        if x % i == 0:\n",
    "            faktor+=1\n",
    "        i += 1\n",
    "        \n",
    "    if faktor == 2:\n",
    "        print(x, \"Bilangan Prima\")\n",
    "        \n",
    "    else:\n",
    "        print(x, \"Bukan Prima, memiliki jumlah faktor pembagi\", faktor)\n",
    "else:\n",
    "    print(x, \"Bukan Prima\")\n"
   ]
  }
 ],
 "metadata": {
  "kernelspec": {
   "display_name": "Python 3.10.6 ('modul 2': venv)",
   "language": "python",
   "name": "python3"
  },
  "language_info": {
   "codemirror_mode": {
    "name": "ipython",
    "version": 3
   },
   "file_extension": ".py",
   "mimetype": "text/x-python",
   "name": "python",
   "nbconvert_exporter": "python",
   "pygments_lexer": "ipython3",
   "version": "3.10.6"
  },
  "orig_nbformat": 4,
  "vscode": {
   "interpreter": {
    "hash": "d80ad8c46b16c078ead72b0bc5b7669f8f7083a933049a6416db53421df4e466"
   }
  }
 },
 "nbformat": 4,
 "nbformat_minor": 2
}
