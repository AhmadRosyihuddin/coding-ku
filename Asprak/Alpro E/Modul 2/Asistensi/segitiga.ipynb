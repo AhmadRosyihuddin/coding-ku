{
 "cells": [
  {
   "cell_type": "code",
   "execution_count": 1,
   "metadata": {},
   "outputs": [
    {
     "name": "stdout",
     "output_type": "stream",
     "text": [
      "Segitiga siku-siku dengan sisi siku-siku adalah 4 dan 3 serta miring adalah 5\n"
     ]
    }
   ],
   "source": [
    "a = int(input(\"Panjang Sisi pertama dari segitiga => \"))\n",
    "b = int(input(\"Panjang Sisi kedua dari segitiga => \"))\n",
    "c = int(input(\"Panjang Sisi ketiga dari segitiga => \"))\n",
    "if(a**2 == (b**2)+(c**2)):\n",
    "    print(\"Segitiga siku-siku dengan sisi siku-siku adalah {} dan {} serta miring adalah {}\".format(b,c,a))\n",
    "elif (b**2 == (a**2)+(c**2)):\n",
    "    print(\"Segitiga siku-siku dengan sisi siku-siku adalah {} dan {} serta miring adalah {}\".format(a,c,b))\n",
    "elif (c**2 == (a**2)+(b**2)):\n",
    "    print(\"Segitiga siku-siku dengan sisi siku-siku adalah {} dan {} serta miring adalah {}\".format(b,a,c))\n",
    "else:\n",
    "    print(f\"{{{a}, {b}, {c}}} bukan segitiga siku-siku\")"
   ]
  }
 ],
 "metadata": {
  "kernelspec": {
   "display_name": "Python 3.10.6 ('Modul 2': venv)",
   "language": "python",
   "name": "python3"
  },
  "language_info": {
   "codemirror_mode": {
    "name": "ipython",
    "version": 3
   },
   "file_extension": ".py",
   "mimetype": "text/x-python",
   "name": "python",
   "nbconvert_exporter": "python",
   "pygments_lexer": "ipython3",
   "version": "3.10.6"
  },
  "orig_nbformat": 4,
  "vscode": {
   "interpreter": {
    "hash": "7b521711fa2597854343815a5c96c0d97978f75b8f807f2e0d87ce7f21f3f378"
   }
  }
 },
 "nbformat": 4,
 "nbformat_minor": 2
}
