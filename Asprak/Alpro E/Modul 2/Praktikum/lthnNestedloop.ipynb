{
 "cells": [
  {
   "cell_type": "code",
   "execution_count": 76,
   "metadata": {},
   "outputs": [
    {
     "name": "stdout",
     "output_type": "stream",
     "text": [
      "Menu\n",
      "1. Teka 1 untuk Segitga Besar Ke Terkecil\n",
      "2. Tekan 2 Untuk Segitiga Kecil Ke terbesar\n",
      "* * \n",
      "* \n"
     ]
    }
   ],
   "source": [
    "print(\"Menu\\n1. Teka 1 untuk Segitga Besar Ke Terkecil\\n2. Tekan 2 Untuk Segitiga Kecil Ke terbesar\")\n",
    "inp = int(input(\"Pilihan => \"))\n",
    "n = int(input(\"Masukkan Angka => \"))\n",
    "\n",
    "if(inp == 1):\n",
    "    for i in range(n,0,-1):\n",
    "        for y in range(i):\n",
    "            print('*', end= ' ')\n",
    "        print()\n",
    "else:\n",
    "    for i in range(n):\n",
    "        for y in range(i+1):\n",
    "            print('*', end= ' ')\n",
    "        print()"
   ]
  }
 ],
 "metadata": {
  "kernelspec": {
   "display_name": "Python 3.10.6 ('Modul 2': venv)",
   "language": "python",
   "name": "python3"
  },
  "language_info": {
   "name": "python",
   "version": "3.10.6"
  },
  "orig_nbformat": 4,
  "vscode": {
   "interpreter": {
    "hash": "7b521711fa2597854343815a5c96c0d97978f75b8f807f2e0d87ce7f21f3f378"
   }
  }
 },
 "nbformat": 4,
 "nbformat_minor": 2
}
