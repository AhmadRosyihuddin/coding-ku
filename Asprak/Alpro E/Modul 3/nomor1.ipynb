{
 "cells": [
  {
   "cell_type": "code",
   "execution_count": 19,
   "metadata": {},
   "outputs": [
    {
     "name": "stdout",
     "output_type": "stream",
     "text": [
      "Pembagi Yang Sama - 1 = 1\n",
      "Pembagi Yang Sama - 2 = 2\n",
      "Pembagi Yang Sama - 3 = 4\n",
      "Pembagi Yang Sama - 4 = 5\n",
      "Pembagi Yang Sama - 5 = 10\n",
      "Pembagi Yang Sama - 6 = 20\n",
      "Pembagi Yang Terbesar adalah 20\n"
     ]
    }
   ],
   "source": [
    "a = int(input(\"Masukkan Bilangan Pertama => \"))\n",
    "b = int(input(\"Masukkan Bilangan Kedua => \"))\n",
    "if(a>b):\n",
    "    a,b = b,a\n",
    "temp = []\n",
    "for i in range(1,a+1):\n",
    "    if((a%i) == 0 and (b%i) == 0):\n",
    "        temp.append(i)\n",
    "for y in range(len(temp)):\n",
    "    print(f\"Pembagi Yang Sama - {y+1} = {temp[y]}\")\n",
    "print(f\"Pembagi Yang Terbesar adalah {temp[-1]}\")"
   ]
  }
 ],
 "metadata": {
  "kernelspec": {
   "display_name": "Python 3.10.6 ('Modul 3': venv)",
   "language": "python",
   "name": "python3"
  },
  "language_info": {
   "codemirror_mode": {
    "name": "ipython",
    "version": 3
   },
   "file_extension": ".py",
   "mimetype": "text/x-python",
   "name": "python",
   "nbconvert_exporter": "python",
   "pygments_lexer": "ipython3",
   "version": "3.10.6"
  },
  "orig_nbformat": 4,
  "vscode": {
   "interpreter": {
    "hash": "2928c647f40113d53cbefa6ebff5e05b5aacf2314b60bd2048b96c53190340f8"
   }
  }
 },
 "nbformat": 4,
 "nbformat_minor": 2
}
