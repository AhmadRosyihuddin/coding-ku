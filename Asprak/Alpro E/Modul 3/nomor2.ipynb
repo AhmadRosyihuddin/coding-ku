{
 "cells": [
  {
   "cell_type": "code",
   "execution_count": 12,
   "metadata": {},
   "outputs": [
    {
     "name": "stdout",
     "output_type": "stream",
     "text": [
      "Inputan => 1002\n",
      "1 : 0 x 100000\n",
      "2 : 0 x 10000\n",
      "3 : 1 x 1000\n",
      "4 : 0 x 100\n",
      "5 : 0 x 10\n",
      "6 : 2 x 1\n"
     ]
    }
   ],
   "source": [
    "a = int(input(\"Masukkan Angka => \"))\n",
    "print(f'Inputan => {a}')\n",
    "pecahan = [100000, 10000, 1000, 100, 10, 1]\n",
    "i = 0\n",
    "while(a != 0):\n",
    "    if(a >= pecahan[i]):\n",
    "        print(f\"{i+1} : {a//pecahan[i]} x {pecahan[i]}\")\n",
    "        a = a%pecahan[i]\n",
    "    else:\n",
    "        print(f\"{i+1} : 0 x {pecahan[i]}\")\n",
    "    i+=1"
   ]
  }
 ],
 "metadata": {
  "kernelspec": {
   "display_name": "Python 3.10.6 64-bit",
   "language": "python",
   "name": "python3"
  },
  "language_info": {
   "codemirror_mode": {
    "name": "ipython",
    "version": 3
   },
   "file_extension": ".py",
   "mimetype": "text/x-python",
   "name": "python",
   "nbconvert_exporter": "python",
   "pygments_lexer": "ipython3",
   "version": "3.10.6"
  },
  "orig_nbformat": 4,
  "vscode": {
   "interpreter": {
    "hash": "916dbcbb3f70747c44a77c7bcd40155683ae19c65e1c03b4aa3499c5328201f1"
   }
  }
 },
 "nbformat": 4,
 "nbformat_minor": 2
}
