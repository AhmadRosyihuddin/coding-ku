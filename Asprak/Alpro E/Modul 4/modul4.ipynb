{
 "cells": [
  {
   "cell_type": "markdown",
   "metadata": {},
   "source": [
    "# 2.1 Program Offset Karakter"
   ]
  },
  {
   "cell_type": "code",
   "execution_count": 7,
   "metadata": {},
   "outputs": [
    {
     "name": "stdout",
     "output_type": "stream",
     "text": [
      "t atau huruf T ke - 1 : offset- 8\n",
      "t atau huruf T ke - 2 : offset- 12\n"
     ]
    }
   ],
   "source": [
    "inp = input('Masukkan Kalimat => ')\n",
    "cari = input('Masukkan huruf yang di cari => ')\n",
    "ind = 1\n",
    "for i in range(len(inp)):\n",
    "    if inp[i].lower() == cari.lower():\n",
    "        print(f\"{cari.lower()} atau huruf {cari.upper()} ke - {ind} : offset- {i}\")\n",
    "        ind += 1"
   ]
  },
  {
   "cell_type": "markdown",
   "metadata": {},
   "source": [
    "# 2.2 Program Konversi Bilangan"
   ]
  },
  {
   "cell_type": "code",
   "execution_count": 54,
   "metadata": {},
   "outputs": [
    {
     "name": "stdout",
     "output_type": "stream",
     "text": [
      "Menu\n",
      "Tekan 1 untuk konversi Desimal Ke Binner\n",
      "Tekan 2 untuk konversi Binner ke Desimal\n",
      "Bilangan Biner = 11110001101\n",
      "Menu\n",
      "Tekan 1 untuk konversi Desimal Ke Binner\n",
      "Tekan 2 untuk konversi Binner ke Desimal\n",
      "Bilangan Desimal = 1933\n"
     ]
    }
   ],
   "source": [
    "def reverse(biner):\n",
    "    hasil = ''\n",
    "    for i in range(len(biner)-1,-1,-1):\n",
    "        hasil += biner[i]\n",
    "    return hasil\n",
    "\n",
    "\n",
    "ulang = 'y'\n",
    "while(ulang != 't'):\n",
    "    print('Menu\\nTekan 1 untuk konversi Desimal Ke Binner\\nTekan 2 untuk konversi Binner ke Desimal')\n",
    "    pilih = int(input('Masukkan pilihan Anda => '))\n",
    "    if(pilih == 1):\n",
    "        dec = int(input('Masukkan Desimal => '))\n",
    "        biner = ''\n",
    "        while dec != 0:\n",
    "            biner += str(dec%2)\n",
    "            dec //= 2\n",
    "        print(f'Bilangan Biner = {reverse(biner)}')\n",
    "\n",
    "    if(pilih == 2):\n",
    "        biner = reverse(input('Masukkan Binner => '))\n",
    "        dec = 0\n",
    "        for i in range(len(biner)):\n",
    "            dec += (2**i) * int(biner[i])\n",
    "        print(f'Bilangan Desimal = {dec}')\n",
    "\n",
    "    ulang = input('Ingin mengulang operasi kembali (y/t)? ')"
   ]
  },
  {
   "cell_type": "markdown",
   "metadata": {},
   "source": [
    "# 2.3 Fungsi Matematika"
   ]
  },
  {
   "cell_type": "code",
   "execution_count": 72,
   "metadata": {},
   "outputs": [
    {
     "name": "stdout",
     "output_type": "stream",
     "text": [
      "[10, 10, 5, 10, 10]\n",
      "xBar = 9.0\n",
      "fx = 0.0\n",
      "\n",
      "[2, 4, 6, 8, 10]\n",
      "xBar = 6.0\n",
      "fx = 0.0\n"
     ]
    }
   ],
   "source": [
    "def matematic(x):\n",
    "    n = len(x)\n",
    "    xBar = 0\n",
    "    fx = 0\n",
    "    for i in x: xBar += (1/n) * i\n",
    "    for y in x: fx += y-xBar\n",
    "    print(x)\n",
    "    print(f'xBar = {xBar}')\n",
    "    print(f'fx = {fx}')\n",
    "\n",
    "matematic([10,10,5,10,10])\n",
    "print()\n",
    "matematic([2,4,6,8,10])"
   ]
  }
 ],
 "metadata": {
  "kernelspec": {
   "display_name": "Python 3.10.6 64-bit",
   "language": "python",
   "name": "python3"
  },
  "language_info": {
   "codemirror_mode": {
    "name": "ipython",
    "version": 3
   },
   "file_extension": ".py",
   "mimetype": "text/x-python",
   "name": "python",
   "nbconvert_exporter": "python",
   "pygments_lexer": "ipython3",
   "version": "3.10.6"
  },
  "orig_nbformat": 4,
  "vscode": {
   "interpreter": {
    "hash": "916dbcbb3f70747c44a77c7bcd40155683ae19c65e1c03b4aa3499c5328201f1"
   }
  }
 },
 "nbformat": 4,
 "nbformat_minor": 2
}
