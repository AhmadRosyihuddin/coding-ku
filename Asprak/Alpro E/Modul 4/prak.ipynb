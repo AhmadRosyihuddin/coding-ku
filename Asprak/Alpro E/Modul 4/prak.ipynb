{
 "cells": [
  {
   "cell_type": "code",
   "execution_count": 6,
   "metadata": {},
   "outputs": [
    {
     "name": "stdout",
     "output_type": "stream",
     "text": [
      "nama = andi\tNIM = 2004193943\n"
     ]
    }
   ],
   "source": [
    "a = 'nama'\n",
    "print('nama = andi\\tNIM = 2004193943')"
   ]
  },
  {
   "cell_type": "code",
   "execution_count": 3,
   "metadata": {},
   "outputs": [
    {
     "name": "stdout",
     "output_type": "stream",
     "text": [
      "DATA MAHASISWA\n",
      "Nama = Ahmad Rosyihuddin\n",
      "NIM = 200411100126\n",
      "Alamat = Gresik\n",
      "Prodi = Teknik Informatika\n",
      "Matakuliah =\n",
      "1. Alpro\n",
      "2. Matematika\n",
      "3. Bahasa Inggris\n",
      "4. Bahasa Indonesia\n",
      "5. Logika Engenering\n",
      "\n",
      "1. Tambah Matakuliah\n",
      "2. Hapus Matakuliah\n",
      "3. Keluar\n",
      "DATA MAHASISWA\n",
      "Nama = Ahmad Rosyihuddin\n",
      "NIM = 200411100126\n",
      "Alamat = Gresik\n",
      "Prodi = Teknik Informatika\n",
      "Matakuliah =\n",
      "1. Alpro\n",
      "2. Matematika\n",
      "3. Bahasa Inggris\n",
      "4. Bahasa Indonesia\n",
      "\n",
      "1. Tambah Matakuliah\n",
      "2. Hapus Matakuliah\n",
      "3. Keluar\n"
     ]
    }
   ],
   "source": [
    "nama = 'Ahmad Rosyihuddin'\n",
    "nim = '200411100126'\n",
    "alamat = 'Gresik'\n",
    "prodi = 'Teknik Informatika'\n",
    "matakuliah = ['Alpro', 'Matematika', 'Bahasa Inggris', 'Bahasa Indonesia', 'Logika Engenering']\n",
    "\n",
    "def displayData():\n",
    "  print(f'DATA MAHASISWA\\nNama = {nama}\\nNIM = {nim}\\nAlamat = {alamat}\\nProdi = {prodi}\\nMatakuliah =')\n",
    "  for i in range(len(matakuliah)) : print(f'{i+1}. {matakuliah[i]}')\n",
    "\n",
    "def tambahMatkul():\n",
    "  matakuliah.append(input('Masukkan Nama Matkul => '))\n",
    "\n",
    "def hapusMatkul():\n",
    "  matakuliah.remove(matakuliah[int(input('Masukkan Nomor Yang Ingin Di hapus => '))-1])\n",
    "\n",
    "start = True\n",
    "while start:\n",
    "  displayData()\n",
    "  print('\\n1. Tambah Matakuliah\\n2. Hapus Matakuliah\\n3. Keluar')\n",
    "  pilih = int(input('Masukkan Pilihan => '))\n",
    "  if(pilih == 1): tambahMatkul()\n",
    "  elif(pilih == 2) : hapusMatkul()\n",
    "  elif(pilih == 3) : start = False\n",
    "  else : print('\\n=================\\nPilihan Tidak Ada\\n=================\\n')\n"
   ]
  },
  {
   "cell_type": "code",
   "execution_count": null,
   "metadata": {},
   "outputs": [],
   "source": []
  }
 ],
 "metadata": {
  "kernelspec": {
   "display_name": "Python 3.10.6 64-bit",
   "language": "python",
   "name": "python3"
  },
  "language_info": {
   "codemirror_mode": {
    "name": "ipython",
    "version": 3
   },
   "file_extension": ".py",
   "mimetype": "text/x-python",
   "name": "python",
   "nbconvert_exporter": "python",
   "pygments_lexer": "ipython3",
   "version": "3.10.6"
  },
  "orig_nbformat": 4,
  "vscode": {
   "interpreter": {
    "hash": "916dbcbb3f70747c44a77c7bcd40155683ae19c65e1c03b4aa3499c5328201f1"
   }
  }
 },
 "nbformat": 4,
 "nbformat_minor": 2
}
