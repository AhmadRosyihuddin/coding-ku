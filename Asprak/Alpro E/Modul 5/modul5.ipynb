{
 "cells": [
  {
   "cell_type": "code",
   "execution_count": 87,
   "metadata": {},
   "outputs": [
    {
     "name": "stdout",
     "output_type": "stream",
     "text": [
      "-in-\n",
      "95\n",
      "85\n",
      "-out-\n",
      "[1, 5, 19, 95]\n",
      "[1, 5, 17, 85]\n",
      "[1, 5]\n"
     ]
    }
   ],
   "source": [
    "a = int(input('=> '))\n",
    "b = int(input('=> '))\n",
    "pembagiA = [i for i in range(1,a+1) if a%i == 0]\n",
    "pembagiB = [i for i in range(1,b+1) if b%i == 0]\n",
    "pembagiSama = [pembagiA[i] for i in range(len(pembagiA)) if(pembagiA[i] in pembagiB)]\n",
    "print(f'-in-\\n{a}\\n{b}\\n-out-\\n{pembagiA}\\n{pembagiB}\\n{pembagiSama}')"
   ]
  },
  {
   "cell_type": "code",
   "execution_count": 115,
   "metadata": {},
   "outputs": [
    {
     "name": "stdout",
     "output_type": "stream",
     "text": [
      "-in-\n",
      "3\n",
      "  1\n",
      "  4\n",
      "  7\n",
      "5\n",
      "  4\n",
      "  5\n",
      "  2\n",
      "  6\n",
      "  3\n",
      "-out-\n",
      "[1, 4, 7]\n",
      "[4, 5, 2, 6, 3]\n",
      "[5, 9, 9, 6, 3]\n"
     ]
    }
   ],
   "source": [
    "a = 3\n",
    "b = 5\n",
    "print(f'-in-\\n{a}')\n",
    "anggotaA = [int(input()) for i in range(a)]\n",
    "for i in anggotaA: print(' ', i)\n",
    "\n",
    "print(b)\n",
    "anggotaB = [int(input()) for i in range(b)]\n",
    "for i in anggotaB: print(' ', i)\n",
    "\n",
    "p = len(anggotaA)\n",
    "if(len(anggotaB) > len(anggotaA)):\n",
    "    p = len(anggotaB)\n",
    "    \n",
    "penjumlahan = []\n",
    "for i in range(p):\n",
    "    if(i< len(anggotaA)):\n",
    "        if(i < len(anggotaB)):\n",
    "            penjumlahan.append(anggotaA[i]+anggotaB[i])\n",
    "        else:\n",
    "            penjumlahan.append(anggotaA[i])\n",
    "    else:\n",
    "        penjumlahan.append(anggotaB[i])\n",
    "\n",
    "print(f'-out-\\n{anggotaA}\\n{anggotaB}\\n{penjumlahan}')"
   ]
  },
  {
   "cell_type": "code",
   "execution_count": 133,
   "metadata": {},
   "outputs": [
    {
     "name": "stdout",
     "output_type": "stream",
     "text": [
      "Tanggal 6 adalah hari rabu\n"
     ]
    }
   ],
   "source": [
    "firstDay = input('Masukkan Informasi Hari Pertama Bulan ini, jatuh pada hari => ').strip()\n",
    "tgl = int(input('Masukkan Tanggal yang ingin di ketahui hari nya => '))\n",
    "hari = ['minggu', 'senin', 'selasa', 'rabu', 'kamis', 'jumat', 'sabtu']\n",
    "ind = hari.index(firstDay.lower())\n",
    "hariIni = hari[((tgl+ind) % 7)-1]\n",
    "print(f'Tanggal {tgl} adalah hari {hariIni}')"
   ]
  }
 ],
 "metadata": {
  "kernelspec": {
   "display_name": "Python 3.10.6 64-bit",
   "language": "python",
   "name": "python3"
  },
  "language_info": {
   "codemirror_mode": {
    "name": "ipython",
    "version": 3
   },
   "file_extension": ".py",
   "mimetype": "text/x-python",
   "name": "python",
   "nbconvert_exporter": "python",
   "pygments_lexer": "ipython3",
   "version": "3.10.6"
  },
  "orig_nbformat": 4,
  "vscode": {
   "interpreter": {
    "hash": "916dbcbb3f70747c44a77c7bcd40155683ae19c65e1c03b4aa3499c5328201f1"
   }
  }
 },
 "nbformat": 4,
 "nbformat_minor": 2
}
