{
 "cells": [
  {
   "cell_type": "markdown",
   "metadata": {},
   "source": [
    "# Fungsi"
   ]
  },
  {
   "cell_type": "code",
   "execution_count": 28,
   "metadata": {},
   "outputs": [],
   "source": [
    "def createList(n):\n",
    "  data = []\n",
    "  for i in range(n):\n",
    "    data.append(int(input(f'Masukkan Data Ke - {i} : ')))\n",
    "  return data\n",
    "\n",
    "def createListPrime(data):\n",
    "  prime = []\n",
    "  for i in data:\n",
    "    temp = 0\n",
    "    for y in range(1,i+1):\n",
    "      if(i%y == 0):\n",
    "        temp += 1\n",
    "    if(temp <= 2 and temp > 1 and i not in prime):\n",
    "      prime.append(i)\n",
    "  return prime\n",
    "\n",
    "def avgList(data):\n",
    "  total = 0\n",
    "  for i in data:\n",
    "    total += i\n",
    "  return total/len(data)\n",
    "\n",
    "def addList(data1, data2):\n",
    "  total = []\n",
    "  if(len(data1) == len(data2)):\n",
    "    for i in range(len(data1)):\n",
    "      total.append(data1[i] + data2[i])\n",
    "  else:\n",
    "    return 'Ukuran List Tidak Sama'\n",
    "  return total\n",
    "\n",
    "def koordinatY(x,m,c):\n",
    "  return  [i*m+c for i in x]"
   ]
  },
  {
   "cell_type": "markdown",
   "metadata": {},
   "source": [
    "# 2.1 Check List"
   ]
  },
  {
   "cell_type": "code",
   "execution_count": 29,
   "metadata": {},
   "outputs": [
    {
     "name": "stdout",
     "output_type": "stream",
     "text": [
      "data list = [7, 2, 4, 6, 5, 2, 9, 5, 8, 1]\n",
      "data prima = [7, 2, 5]\n"
     ]
    }
   ],
   "source": [
    "# data = createList(10)\n",
    "data= [7,2,4,6,5,2,9,5,8,1]\n",
    "data1 = [8, 1, 2, 6, 3, 5, 2, 9, 0, 11, 3, 2, 7, 9, 1]\n",
    "print(f'data list = {data}')\n",
    "prima = createListPrime(data)\n",
    "print(f'data prima = {prima}')"
   ]
  },
  {
   "cell_type": "markdown",
   "metadata": {},
   "source": [
    "# 2.2 Operasi List"
   ]
  },
  {
   "cell_type": "code",
   "execution_count": 37,
   "metadata": {},
   "outputs": [
    {
     "name": "stdout",
     "output_type": "stream",
     "text": [
      "Data - 1 = [4, 2, 4, 7, 8, 2] ; rata-rata list = 4.5\n",
      "Data - 2 = [1, 4, 10, 4, 5, 6] ; rata-rata list = 5.0\n",
      "[4, 2, 4, 7, 8, 2] + [1, 4, 10, 4, 5, 6] = [5, 6, 14, 11, 13, 8]\n"
     ]
    }
   ],
   "source": [
    "# data1 = createList(3)\n",
    "# data2 = createList(3)\n",
    "data1 = [4,2,4,7,8,2]\n",
    "data2 = [1,4,10,4,5,6]\n",
    "print(f'Data - 1 = {data1} ; rata-rata list = {avgList(data1)}')\n",
    "print(f'Data - 2 = {data2} ; rata-rata list = {avgList(data2)}')\n",
    "print(f'{data1} + {data2} = {addList(data1,data2)}')"
   ]
  },
  {
   "cell_type": "markdown",
   "metadata": {},
   "source": [
    "# 2.3 List Comprehension"
   ]
  },
  {
   "cell_type": "code",
   "execution_count": 35,
   "metadata": {},
   "outputs": [
    {
     "name": "stdout",
     "output_type": "stream",
     "text": [
      "[3, 4, 1, 2, 5]\n",
      "[10, 12, 6, 8, 14]\n"
     ]
    }
   ],
   "source": [
    "x = [3,4,1,2,5]\n",
    "print(x)\n",
    "print(koordinatY(x,2,4))"
   ]
  }
 ],
 "metadata": {
  "kernelspec": {
   "display_name": "Python 3.10.6 64-bit",
   "language": "python",
   "name": "python3"
  },
  "language_info": {
   "codemirror_mode": {
    "name": "ipython",
    "version": 3
   },
   "file_extension": ".py",
   "mimetype": "text/x-python",
   "name": "python",
   "nbconvert_exporter": "python",
   "pygments_lexer": "ipython3",
   "version": "3.10.6"
  },
  "orig_nbformat": 4,
  "vscode": {
   "interpreter": {
    "hash": "916dbcbb3f70747c44a77c7bcd40155683ae19c65e1c03b4aa3499c5328201f1"
   }
  }
 },
 "nbformat": 4,
 "nbformat_minor": 2
}
