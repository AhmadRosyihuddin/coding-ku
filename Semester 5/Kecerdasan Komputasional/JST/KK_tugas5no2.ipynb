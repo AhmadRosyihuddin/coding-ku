{
 "cells": [
  {
   "cell_type": "code",
   "execution_count": 21,
   "metadata": {},
   "outputs": [
    {
     "name": "stdout",
     "output_type": "stream",
     "text": [
      "[[1.32708758 1.12708758 0.52708758 0.62708758]\n",
      " [0.2        0.2        0.7        0.9       ]]\n",
      "[[1.32708758 1.12708758 0.52708758 0.62708758]\n",
      " [0.7        0.7        1.2        1.4       ]]\n",
      "1\n",
      "1\n"
     ]
    }
   ],
   "source": [
    "import numpy as np\n",
    "\n",
    "def neighborhoodFn (wincv,cv):\n",
    "    std=2\n",
    "    temp=np.linalg.norm(wincv-cv)\n",
    "    result=np.exp(-1*temp/(2*std**2))\n",
    "    return result\n",
    "\n",
    "cv=np.array([[0.9, 0.7, 0.1, 0.2],[0.2, 0.2, 0.7, 0.9]])\n",
    "data=np.array([[1, 1, 1, 0],[0, 0, 0, 1],[1, 0, 0, 0],[0, 0, 1, 1]])\n",
    "\n",
    "jumlahepoch=1\n",
    "learnRate=0.5\n",
    "\n",
    "#proses learning\n",
    "for k in range(jumlahepoch):\n",
    "    for i in range (len(data)):\n",
    "        tempdist=np.zeros(len(cv))     \n",
    "for j in range (len(cv)):\n",
    "    tempdist[j]=np.linalg.norm(data[i]-cv[j])\n",
    "    minind=np.argmin(tempdist)\n",
    "    \n",
    "#update bobot sesuai dengan fungsi ketetanggaan             \n",
    "for j in range (len(cv)):\n",
    "    cv[j]=cv[j]+learnRate*neighborhoodFn(cv[minind],cv[j])\n",
    "    print (cv)\n",
    "    \n",
    "#proses testing-clustering\n",
    "for i in range (len(data)):\n",
    "    tempdist=np.zeros(len(cv))\n",
    "for j in range (len(cv)):\n",
    "    tempdist[j]=np.linalg.norm(data[i]-cv[j])\n",
    "    minind=np.argmin(tempdist)\n",
    "    print(minind)"
   ]
  },
  {
   "cell_type": "code",
   "execution_count": null,
   "metadata": {},
   "outputs": [],
   "source": []
  }
 ],
 "metadata": {
  "kernelspec": {
   "display_name": "Python 3",
   "language": "python",
   "name": "python3"
  },
  "language_info": {
   "codemirror_mode": {
    "name": "ipython",
    "version": 3
   },
   "file_extension": ".py",
   "mimetype": "text/x-python",
   "name": "python",
   "nbconvert_exporter": "python",
   "pygments_lexer": "ipython3",
   "version": "3.7.3"
  }
 },
 "nbformat": 4,
 "nbformat_minor": 2
}
