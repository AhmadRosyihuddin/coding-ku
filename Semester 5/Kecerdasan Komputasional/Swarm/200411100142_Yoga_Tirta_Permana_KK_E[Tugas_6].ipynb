{
  "nbformat": 4,
  "nbformat_minor": 0,
  "metadata": {
    "colab": {
      "provenance": []
    },
    "kernelspec": {
      "name": "python3",
      "display_name": "Python 3"
    },
    "language_info": {
      "name": "python"
    }
  },
  "cells": [
    {
      "cell_type": "code",
      "execution_count": null,
      "metadata": {
        "id": "wvgaWW0Hqh0R"
      },
      "outputs": [],
      "source": [
        "import numpy as np"
      ]
    },
    {
      "cell_type": "code",
      "source": [
        "def neighborhoodFn (wincv,cv):\n",
        "    std=2\n",
        "    temp=np.linalg.norm(wincv-cv)\n",
        "    result=np.exp(-1*temp/(2*std**2))\n",
        "    return result"
      ],
      "metadata": {
        "id": "HtmOUZvOrXot"
      },
      "execution_count": null,
      "outputs": []
    },
    {
      "cell_type": "code",
      "source": [
        "cv=np.array([[0.9, 0.7, 0.1, 0.2],[0.2, 0.2, 0.7, 0.9]])\n",
        "data=np.array([[1, 1, 1, 0],[0, 0, 0, 1],[1, 0, 0, 0],[0, 0, 1, 1]])"
      ],
      "metadata": {
        "id": "ZSACKhbjrfGA"
      },
      "execution_count": null,
      "outputs": []
    },
    {
      "cell_type": "code",
      "source": [
        "jumlahepoch=1\n",
        "learnRate=0.5"
      ],
      "metadata": {
        "id": "fhwLWlperptF"
      },
      "execution_count": null,
      "outputs": []
    },
    {
      "cell_type": "code",
      "source": [
        "#proses learning\n",
        "for k in range(jumlahepoch):\n",
        "    for i in range (len(data)):\n",
        "        tempdist=np.zeros(len(cv))     \n",
        "for j in range (len(cv)):\n",
        "    tempdist[j]=np.linalg.norm(data[i]-cv[j])\n",
        "    minind=np.argmin(tempdist)"
      ],
      "metadata": {
        "id": "ePdA_iznrtO0"
      },
      "execution_count": null,
      "outputs": []
    },
    {
      "cell_type": "code",
      "source": [
        "#update bobot sesuai dengan fungsi ketetanggaan             \n",
        "for j in range (len(cv)):\n",
        "    cv[j]=cv[j]+learnRate*neighborhoodFn(cv[minind],cv[j])\n",
        "    print (cv)"
      ],
      "metadata": {
        "colab": {
          "base_uri": "https://localhost:8080/"
        },
        "id": "QLM1wfUzrwIJ",
        "outputId": "80be83ee-3eb3-4168-89d4-670ea7c340d8"
      },
      "execution_count": null,
      "outputs": [
        {
          "output_type": "stream",
          "name": "stdout",
          "text": [
            "[[1.32708758 1.12708758 0.52708758 0.62708758]\n",
            " [0.2        0.2        0.7        0.9       ]]\n",
            "[[1.32708758 1.12708758 0.52708758 0.62708758]\n",
            " [0.7        0.7        1.2        1.4       ]]\n"
          ]
        }
      ]
    },
    {
      "cell_type": "code",
      "source": [
        "#proses testing-clustering\n",
        "for i in range (len(data)):\n",
        "    tempdist=np.zeros(len(cv))\n",
        "for j in range (len(cv)):\n",
        "    tempdist[j]=np.linalg.norm(data[i]-cv[j])\n",
        "    minind=np.argmin(tempdist)\n",
        "    print(minind)"
      ],
      "metadata": {
        "colab": {
          "base_uri": "https://localhost:8080/"
        },
        "id": "cHXNrsxAry2I",
        "outputId": "e01f4cd1-4669-4f2c-ca49-2e62d373a462"
      },
      "execution_count": null,
      "outputs": [
        {
          "output_type": "stream",
          "name": "stdout",
          "text": [
            "1\n",
            "1\n"
          ]
        }
      ]
    }
  ]
}