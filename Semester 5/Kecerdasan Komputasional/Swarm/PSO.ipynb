{
 "cells": [
  {
   "attachments": {},
   "cell_type": "markdown",
   "metadata": {},
   "source": [
    "# Particle Swarm Optimization"
   ]
  },
  {
   "attachments": {},
   "cell_type": "markdown",
   "metadata": {},
   "source": [
    "## Inisisalisasi Posisi dan Kecepatan Particle"
   ]
  },
  {
   "attachments": {},
   "cell_type": "markdown",
   "metadata": {},
   "source": [
    "### Fungsi Generate Particle Secara Acak\n",
    "Parameter  \n",
    "- a = Batas atas  \n",
    "- b = Batas bawah  \n",
    "- n = Jumlah particle"
   ]
  },
  {
   "cell_type": "code",
   "execution_count": 18,
   "metadata": {},
   "outputs": [],
   "source": [
    "def createPositionn(a, b , n):\n",
    "  return [random.uniform(a, b) for i in range(n)]\n",
    "\n",
    "def createSpeed(a, b, n):\n",
    "  return [random.uniform(a, b) for i in range(n)]"
   ]
  },
  {
   "attachments": {},
   "cell_type": "markdown",
   "metadata": {},
   "source": [
    "## Fungsi Find Personal Best Position (Pibest)\n",
    "\n",
    "Parameter  \n",
    "- x = list Personal Best Position  (pibest)\n",
    "- n = iterasi\n",
    "- xFitnes = list Persoal Best Position yang telah di update dengan menghitung nilai fitnes"
   ]
  },
  {
   "cell_type": "code",
   "execution_count": 19,
   "metadata": {},
   "outputs": [],
   "source": [
    "def fungsiFitnes(x):\n",
    "  fitnes = []\n",
    "  for i in x:\n",
    "    fitnes.append(round(i**2 + 5 * i + 10,2))\n",
    "  return fitnes"
   ]
  },
  {
   "cell_type": "code",
   "execution_count": 20,
   "metadata": {},
   "outputs": [],
   "source": [
    "def findPibest(x, n, xFitnes=0):\n",
    "  piUpdate = []\n",
    "  if(n == 0):\n",
    "    return x[:]\n",
    "  else:\n",
    "    return [min(x[i], xFitnes[i]) for i in range(len(x))]\n",
    "  #   for i in range(len(x)):\n",
    "  #     if(xFitnes[i] >= x[i]):\n",
    "  #         piUpdate.append(x[i])\n",
    "  #     else:\n",
    "  #         piUpdate.append(xFitnes[i])\n",
    "  # return piUpdate\n"
   ]
  },
  {
   "attachments": {},
   "cell_type": "markdown",
   "metadata": {},
   "source": [
    "## Fungsi Find Global Best Position (Gbest)\n",
    "Gbest di ambil dari nilai minimum nilai fitnes terendah dari Pibest  \n",
    "Parameter\n",
    "- x = list pibest  "
   ]
  },
  {
   "cell_type": "code",
   "execution_count": 21,
   "metadata": {},
   "outputs": [],
   "source": [
    "def findGbest(x):\n",
    "  # print(f'= {x}**2 + 5 * {x} + 10\\n = {x**2 + 5 * x + 10}')\n",
    "  return x**2 + 5 * x + 10\n",
    "\n",
    "# gbest = min(posisi, key=fungsiFitnes)\n",
    "# gbest"
   ]
  },
  {
   "attachments": {},
   "cell_type": "markdown",
   "metadata": {},
   "source": [
    "## Fungsi Update Velocity (Kecepatan)"
   ]
  },
  {
   "cell_type": "code",
   "execution_count": 22,
   "metadata": {},
   "outputs": [],
   "source": [
    "def updateVelocity(c0, c1, c2, r1, r2, v, pibest, gbest, x):\n",
    "  return [round(c0 * v[i] + c1 * r1 * (pibest[i] - x[i]) + c2 * r2 * (gbest -x[i]),2) for i in range(len(v))]\n",
    "  \n",
    "  \n",
    "# velocity = updateVelocity(1, 1, 1, 0.1, 0.2, 0.1, -6, -2, -6)\n",
    "# velocity"
   ]
  },
  {
   "attachments": {},
   "cell_type": "markdown",
   "metadata": {},
   "source": [
    "## Update Nilai Particle"
   ]
  },
  {
   "attachments": {},
   "cell_type": "markdown",
   "metadata": {},
   "source": [
    "Parameter  \n",
    "- x = pibest\n",
    "- vUpdate = Kecepatan (velocity) yang telah di update"
   ]
  },
  {
   "cell_type": "code",
   "execution_count": 23,
   "metadata": {},
   "outputs": [],
   "source": [
    "def updateParticle(x, vUpdate):\n",
    "  return [round(x[i] + vUpdate[i],2) for i in range(len(x))]\n",
    "\n",
    "# pibestUpdate = updateParticle(-6, 0.9)\n",
    "# pibestUpdate"
   ]
  },
  {
   "attachments": {},
   "cell_type": "markdown",
   "metadata": {},
   "source": [
    "## Implementasi Perhitungan"
   ]
  },
  {
   "cell_type": "code",
   "execution_count": 24,
   "metadata": {},
   "outputs": [
    {
     "name": "stdout",
     "output_type": "stream",
     "text": [
      "Iterasi Ke - 0\n",
      "Gbest\t= -2\n",
      "pibest\t= [-6, 4, -2, -1, 2]\n",
      "fitnesX\t= [16, 46, 4, 6, 24]\n",
      "vUpdate\t= [0.9, -1.1, 0.5, 0.0, -0.1]\n",
      "xUpdate\t= [-5.1, 2.9, -1.5, -1.0, 1.9]\n",
      "\n",
      "Iterasi Ke - 1\n",
      "Gbest\t= -2\n",
      "pibest\t= [-5.1, 2.9, -1.5, -1.0, 1.9]\n",
      "fitnesX\t= [10.51, 32.91, 4.75, 6.0, 23.11]\n",
      "vUpdate\t= [1.52, -2.08, 0.4, -0.2, -0.88]\n",
      "xUpdate\t= [-3.58, 0.82, -1.1, -1.2, 1.02]\n",
      "\n",
      "Iterasi Ke - 2\n",
      "Gbest\t= -1.5\n",
      "pibest\t= [-3.58, 0.82, -1.1, -1.2, 1.02]\n",
      "fitnesX\t= [4.92, 14.77, 5.71, 5.44, 16.14]\n",
      "vUpdate\t= [1.94, -2.54, 0.32, -0.26, -1.38]\n",
      "xUpdate\t= [-1.64, -1.72, -0.78, -1.46, -0.36]\n",
      "\n",
      "Iterasi Ke - 3\n",
      "Gbest\t= -3.58\n",
      "pibest\t= [-1.64, -1.72, -0.78, -1.46, -0.36]\n",
      "fitnesX\t= [4.49, 4.36, 6.71, 4.83, 8.33]\n",
      "vUpdate\t= [1.55, -2.91, -0.24, -0.68, -2.02]\n",
      "xUpdate\t= [-0.09, -4.63, -1.02, -2.14, -2.38]\n",
      "\n",
      "Iterasi Ke - 4\n",
      "Gbest\t= -1.72\n",
      "pibest\t= [-0.09, -4.63, -1.02, -2.14, -2.38]\n",
      "fitnesX\t= [9.56, 8.29, 5.94, 3.88, 3.76]\n",
      "vUpdate\t= [1.22, -2.33, -0.38, -0.6, -1.89]\n",
      "xUpdate\t= [1.13, -6.96, -1.4, -2.74, -4.27]\n",
      "\n"
     ]
    }
   ],
   "source": [
    "# Inisialisasi Posisi dan juga kecepatan\n",
    "x = [-6, 4, -2, -1, 2]\n",
    "v = [0.1, 0.1, 0.5, 0.2, 0.7]\n",
    "\n",
    "# Inisialisasi Parameter PSO\n",
    "c0 = 1\n",
    "c1 = 1\n",
    "c2 = 1\n",
    "r1 = 0.1\n",
    "r2 = 0.2\n",
    "\n",
    "# Inisialisasi jumlah Iterasi\n",
    "t = 5\n",
    "\n",
    "# Copy Posisi dan Kecepatan\n",
    "xUpdate = x\n",
    "vUpdate = v\n",
    "\n",
    "# Mencari Nilai Gbest\n",
    "gbest = min(xUpdate, key=findGbest)\n",
    "\n",
    "for i in range(t):\n",
    "  print(f'Iterasi Ke - {i}')\n",
    "  # Penetuan Fitnes\n",
    "  fitnesX = fungsiFitnes(xUpdate)\n",
    "  \n",
    "  # Penetuan Pibest\n",
    "  pibest = findPibest(xUpdate,i, fitnesX)\n",
    "  print(f'Gbest\\t= {gbest}')\n",
    "  \n",
    "  # Update Velocity\n",
    "  vUpdate = updateVelocity(c0,c1,c2,r1,r2,vUpdate,pibest,gbest,xUpdate)\n",
    "  gbest = min(xUpdate, key=findGbest) # Menyimpan Gbest sebelum di Update\n",
    "  xUpdate = updateParticle(xUpdate, vUpdate) # Update Pibest\n",
    "  \n",
    "  print(f'pibest\\t= {pibest}')\n",
    "  print(f'fitnesX\\t= {fitnesX}')\n",
    "  print(f'vUpdate\\t= {vUpdate}')\n",
    "  print(f'xUpdate\\t= {xUpdate}')\n",
    "  print()"
   ]
  }
 ],
 "metadata": {
  "kernelspec": {
   "display_name": "venv",
   "language": "python",
   "name": "python3"
  },
  "language_info": {
   "codemirror_mode": {
    "name": "ipython",
    "version": 3
   },
   "file_extension": ".py",
   "mimetype": "text/x-python",
   "name": "python",
   "nbconvert_exporter": "python",
   "pygments_lexer": "ipython3",
   "version": "3.10.7"
  },
  "orig_nbformat": 4,
  "vscode": {
   "interpreter": {
    "hash": "11ce6c88c5ea6deeb000a84aeb04cffe931f2bfacc080e17e461e4801efcda96"
   }
  }
 },
 "nbformat": 4,
 "nbformat_minor": 2
}
